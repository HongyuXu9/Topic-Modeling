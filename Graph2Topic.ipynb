{
 "cells": [
  {
   "cell_type": "code",
   "execution_count": null,
   "id": "fda630d0-f192-486a-a28b-03ac1b4fdd9e",
   "metadata": {},
   "outputs": [
    {
     "name": "stdout",
     "output_type": "stream",
     "text": [
      "Initialize G2T with num_topics=10, embedding=princeton-nlp/unsup-simcse-bert-base-uncased, dim_size=5, graph_method=greedy_modularity\n",
      "---creating embedding---\n"
     ]
    },
    {
     "name": "stderr",
     "output_type": "stream",
     "text": [
      "1558it [10:44,  2.62it/s]"
     ]
    }
   ],
   "source": [
    "import pandas as pd\n",
    "from g2t.graph2topictm import Graph2TopicTM\n",
    "\n",
    "url = 'https://raw.githubusercontent.com/zfz/twitter_corpus/master/full-corpus.csv'\n",
    "df = pd.read_csv(url)\n",
    "data = df['TweetText'].tolist()\n",
    "\n",
    "tm = Graph2TopicTM(dataset=data, \n",
    "                embedding='princeton-nlp/unsup-simcse-bert-base-uncased')\n",
    "prediction = tm.train()\n",
    "topics = tm.get_topics()\n",
    "print(f'Topics: {topics}')"
   ]
  },
  {
   "cell_type": "code",
   "execution_count": null,
   "id": "95848448-0f02-47f9-a669-17d804f7e91f",
   "metadata": {},
   "outputs": [],
   "source": [
    "# Visualizzare i topic in un grafico a barre\n",
    "def plot_topics(topics, top_n=10):\n",
    "    for topic_id, topic_words in topics.items():\n",
    "        # Mostra solo i primi N topic\n",
    "        words = [word for word, _ in topic_words[:top_n]]\n",
    "        freqs = [freq for _, freq in topic_words[:top_n]]\n",
    "        \n",
    "        plt.figure(figsize=(10, 5))\n",
    "        plt.barh(words, freqs)\n",
    "        plt.title(f'Topic {topic_id}')\n",
    "        plt.xlabel('Frequenza')\n",
    "        plt.ylabel('Parole')\n",
    "        plt.gca().invert_yaxis()  # Inverte l'asse y per avere il topic più importante in alto\n",
    "        plt.show()\n",
    "\n",
    "# Esegui la funzione per visualizzare i topic\n",
    "plot_topics(topics)"
   ]
  },
  {
   "cell_type": "code",
   "execution_count": null,
   "id": "dcf69d30-9a11-4000-affb-f8d93896eb2f",
   "metadata": {},
   "outputs": [],
   "source": []
  }
 ],
 "metadata": {
  "kernelspec": {
   "display_name": "Python 3 (ipykernel)",
   "language": "python",
   "name": "python3"
  },
  "language_info": {
   "codemirror_mode": {
    "name": "ipython",
    "version": 3
   },
   "file_extension": ".py",
   "mimetype": "text/x-python",
   "name": "python",
   "nbconvert_exporter": "python",
   "pygments_lexer": "ipython3",
   "version": "3.9.19"
  }
 },
 "nbformat": 4,
 "nbformat_minor": 5
}
